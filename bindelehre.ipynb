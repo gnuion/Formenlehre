{
 "cells": [
  {
   "attachments": {},
   "cell_type": "markdown",
   "id": "e1af04e8-dde0-4cea-8779-d2ec3911202b",
   "metadata": {},
   "source": [
    "# Einleitung in die Bindelehre oder Combinationslehre.\n",
    "Das Produkt der Größen heißt in der Bindenlehre __ein Gebinde__ (Combination im weiteren Sinne), die Stuffe oder der Exponent, welchen schon Leibnitz ganz richtig als Exponenten erkannt und also gennant hat, heißt in der Bindenlehre __die Klasse__. Von den Gebinden gibt e zwei Gattungen: __Geschiede__ (Complexionen nach Leibnitz), für welche Vertauschung der Faktoren gilt, und __Geänder__ (Variationen), für welche keine Vertauschung der Faktoren gilt. Von jeder dieser Gattungen gibt es wieder zwei Arten: __Vollgeschiede__ und __Vollgeänder__ (Combinationen mit Wiederholung), bei denen das Produkt gleicher Stifte ungleich Null ist, und __Ausgeschiede__ und __Ausgeänder__ (Combinationen ohne Wiederholung), bei denen das Produkt gleicher Stifte Null ist. Die __Rgeschiede__ und __Rgeänder__ (Combinationen mit rfacher Wiederholung) bilden eine Zwichenart. Die Ausgeäender aus n Stiften zur nter Klasse heißen __Gefolge__.\n",
    "\n",
    "Die Darstellung beginnt mit der Aufstellung der verschiedenen Arten von Gebinden und entwickelt dann die Gesteze für die Klassen der Zweiglieder und Vielglieder oder den Binomischen und Polynomischen Lehrsatz Die Sätze über die Anzahl der Gebinde, die Binomische und Polynomische Lehrsatz für Zahlen bilden nur Anwendungen dieser Gesetze auf die Zahlenlehre.\n",
    "\n",
    "Alle Kunstausdücke finden sich auch in der Bindenlehre rein deutsch gebildet und die gewöhnlichen lateinischen Ausdrücke daneben gesetzt, um jedem die freie Wahl zwischen diesen Ausdrücken zu lassen."
   ]
  },
  {
   "attachments": {},
   "cell_type": "markdown",
   "id": "a172e070-6a98-4190-8cc2-cfc9ce318686",
   "metadata": {},
   "source": [
    "## Abschnitt 1. Die Arten der Gebinde\n",
    "1. Erklärung: Die Bindelehre oder Combinationslehre ist ein Teil der Formenlehre und gelten für dieselbe folgende Erklärungen der Größenlehre:\n",
    "    1. Größe heißt jedes, was Gegenstand des Denkens ist oder werden kann, sofern es nur einen und nicht mehrere Werte hat. Das Zeichen der Größe ist der Buchstabe. Derselbe Buchstabe bezichnet in derselben Nummer der Bindelehre stets ein und dieselbe Große; im Übrigen kann jeder Buchstabe jede beliebige Größe bezeichnet. Ein Satz, der für einen Buchstaben bewiesen ist, gilt mithin für jede Größe, welche der Buchstabe bezeichnen kann, d.h. für jede beliebige Größe.\n",
    "    2. Stift ode Element heißt eine Größe, welche ursprünglich gesetzt ist und welche also nicht durch Knüpfung anderer Größen entstanden ist. Der Buchstabe __e__ ist Zeichen der Stifte.\n",
    "    3. Knüpfung heißt jede Zusammenstellung oder Verbindung von Größen, welche dem Geiste des Menschen möglich ist, sofern sie nur eine und nicht mehre Werte hat. Dasselbe Knüpfungszeichen bezeichnet in derselben Nummer der Bindenlehre stets eine und dieselbe Knüpfung; im Übrigen kann jedes Knüpfungszeichen. wenn nichts anderes festgesetzt ist, jede beliebige Art der Knüpfung bezeichnen. Ein Satzt, der für ein Knüpfungszeichen bewiesen ist, gilt mithin für jede beliebege Art der Knüpfung.\n",
    "    4. Die Klammer ist das Zeichen, dass die in die Klammer eingeschlossenen Größen zuvor zu einem Gesamte geknüpft werden sollen, ehe dies mit der Größe auser der Klammer geknüpft werden farf.\n",
    "    5. Gleich heißen zwei Größen, wenn man in jeder Knüpfung der Bindelehre die eine statt der anderen ohne Änderung des wertes setzen kann. Ungleich heißen zwei Größen, wenn man in keiner Knüpfung der Bindelehre dei eine statt der anderen ohne Änderung des Wertes setzen kann. Das zeichen der Gleichheit ist &equals;, der Ungleichheit &ne;\n",
    "    6. In der Bindelehre heißt die Summe eine Aufstellung, das Zeug oder Product ein Gebinde, das Weben oder Multiplizieren ein Binden, die Stufe oder der Exponent eine Klasse.\n",
    "    7. Soll eine Knüpfung ausdrücklich als der Bindenlehre angehörig bezeichnet werden, so wird über das Knüpfungszeichen ein __i__ gesetzt.\n"
   ]
  },
  {
   "attachments": {},
   "cell_type": "markdown",
   "id": "d353ad4e-c22a-4bd7-b3b8-b791a030458a",
   "metadata": {},
   "source": [
    "2. Auch in der Bindenlehre gelten die Grundformeln und daraus abgeleitet folgende Gesetze der Größenlehre. Man kann ohne änderung des Wertes:\n",
    "    1. jede Plus- und Malklammer beliebig setzen oder weglassen und die Ordnung der Stücke belibig ändern,\n",
    "    2. beim Binden oder Multiplizieren jede Biziehungsklammer auflösen, indem man jedes Stück des einen Faktors mit jedem des anderen bindet oder multipliziert,\n",
    "    3. beim Höhen jede Klassensumme auflösen, indem man die Base zu jedem der Stücke höht und die Höhen bindet, und jedes Klassengebinde auflösen, indem man die Base fortschreitend zu den Faktoren höht, die Ordnung, in welcher man fortschreitend höht, ist beliebig oder man kan beim Potenzieren jede Exponentensumme auflösen, indem man die Base mit jedem Stück des Exponenten potenziert und die Potenzen multipliziert, und jedes Exponentenprodukt auflösen, indem man die Base fortschreitend mit dem Faktoren des Exponenten potenziert, die Ordnung, in welcher man fortschreitend potenziert, ist beliebig. Die Klasse oder die Stufe (der Exponent) ist in der Bindelehre stets eine ganze Zahl und zwar eine Pluszahl.\n",
    "    4. Man kann ohne Änderung des Wertes Null zu jeder Größe zufügen oder addieren und jede Größe mit Eins binden oder multiplizieren und zur Eins höhen oder Potenzieren.\n",
    "    5. Jede Größe gibt mit Null gebunden oder multipliziert Null, zur Null gehöht oder potenziert\n",
    "    6. Das Ergebniss jeder dieser Knüpfungen ist wieder eine Stiftsgröße (Elementargröße), das Zeug oder Produkt und die Höhe oder Potenz der Stifte oder Elemente ist wieder ein Stift."
   ]
  },
  {
   "attachments": {},
   "cell_type": "markdown",
   "id": "4d4fcdd2-1dbc-4a6f-a8a5-7507194941d2",
   "metadata": {},
   "source": [
    "3. Für die Bindelehre gelten folgende besondere Gesetze:\n",
    "    1. die Summe zweier gleichen Stifte oder Elemente gibt wieder daselbe Stift</br?\n",
    "    2. das Gebinde oder Produkt zweier gleichen Stifte gibt nicht wieder daselbe Stift und\n",
    "    3. in der Klasse oder dem Exponenten dürfen nur Null und ganze Pluszahlen oder ganze positive Zahlen vorkommen."
   ]
  },
  {
   "attachments": {},
   "cell_type": "markdown",
   "id": "4d8ded3b-f3bc-4fad-afdb-d798e9bad446",
   "metadata": {},
   "source": [
    "4. $$e+e=e$$\n",
    "Die summe zweier gleichen Stifte oder Elemente gibt in der Bindelehre wieder Daselbe stift"
   ]
  },
  {
   "attachments": {},
   "cell_type": "markdown",
   "id": "615f77a8-69aa-43c0-8821-69296ab83b1e",
   "metadata": {},
   "source": [
    "5. $$a+a=a$$\n",
    "    Die Summe zweier gleichen Größen gibt in der Bindelehre wieder dieselbe Größe.\n",
    "   \n",
    "    Beweis: Es sei $a=e_1+e_2+..+e_n$\n",
    "    \\begin{align}\n",
    "    && a+a &= (e_1+e_2+..+e_n)+(e_1+e_2+..+e_n) \\\\\n",
    "    \\Rightarrow && &= (e_1+e_1)+(e_2+e_2)+..+(e_n+e_n) && \\text{(nach No. 2)} \\\\\n",
    "    \\Rightarrow && &= e_1+e_2+..+e_n && \\text{(nach No. 4)} \\\\\n",
    "    \\end{align}"
   ]
  },
  {
   "attachments": {},
   "cell_type": "markdown",
   "id": "5def9950-7027-470d-ae4d-6bba2c49cab0",
   "metadata": {},
   "source": [
    "6. $$\\sum a = a$$\n",
    "   Die Summe gleicher Größen gibt in der Bindelehre wieder dieselbe Größe.\n",
    "\n",
    "   Beweis (fortleitend): Wenn der Satz für $\\sum_{1} ^{n} a = a$ gilt, so gilt er auch für $\\sum_{1} ^{n+1} a = a$, denn\n",
    "    \\begin{align}\n",
    "    && \\sum_{1} ^{n + 1} a &= \\sum_{1} ^{n} a + a \\\\\n",
    "    \\Rightarrow && &= a + a && \\text{(nach der Annahme)} \\\\\n",
    "    \\Rightarrow && &= a && \\text{(nach No. 5)} \\\\\n",
    "    \\end{align}\n",
    "   Nun gilt er fur $n=2$, denn $a+a=a$ (nach No. 5), also gilt er auch für jedes folgende n, also ganz allgemein."
   ]
  },
  {
   "attachments": {},
   "cell_type": "markdown",
   "id": "6ad2ea4b-7a00-4fca-9816-9485c52c0b71",
   "metadata": {},
   "source": [
    "7. Das Gebinde mehrer Größen ist, sofern die Faktoren nur verschiedene Stifte oder Elemente enthalten, gleich dem gewöhnlichen Zeuge oder Produkte dieser Größen."
   ]
  },
  {
   "attachments": {},
   "cell_type": "markdown",
   "id": "2e7892f9-f685-403c-aa94-986e0f065480",
   "metadata": {},
   "source": [
    "8. Erklärung. Die Gebinde heißen:\n",
    "   1. Geschiede oder Complexionen, wenn bei dem Binden oder Multiplizieren Vertauschung zweier Stifte als Faktoren gilt. Zeichen $\\grave{}$\n",
    "   2. Geänder oder Variationen, wenn beim Binden oder Multiplizieren nicht Vertauschung der Faktoren gilt. Zeichen $\\cdot$"
   ]
  },
  {
   "attachments": {},
   "cell_type": "markdown",
   "id": "e6138a8a-747a-4f04-ab94-26215128c1af",
   "metadata": {},
   "source": [
    "9. $\\begin{align}&& e_m e_n &\\doteq e_n e_m && e_m e_n \\grave{\\ne} e_n e_m &&\\end{align}$\n",
    "    Für Geschiede gilt die Grundformel der Vertauschung, für Geänder gilt sie nicht."
   ]
  },
  {
   "attachments": {},
   "cell_type": "markdown",
   "id": "0b5dc571-f8aa-4d50-a354-b7fbefb50dd6",
   "metadata": {},
   "source": [
    "10. Gesetz der Geschiede. Für die Geschiede gild das Gesetz der Vertauschung, d.h. man kann ohne Änderung des Wertes die Ordnung der Faktoren des Geschiedes beliebig ändern und gilt das Gesetz der Erhöhung, d.h. man kann jedes Basengeschiede auflösen, indem man die Größen des Geschiedes einzeln zu der Klasse erhöht und die Höhen bildet oder,man kann jedes Basenprodukt auflösen, indem man die Faktoren der Base einzeln mit dem Exponenten potenziert und die Potenzen multipliziert.\n",
    "\n",
    "    Beweis: Nach No. 9 gilt die Grundformel der Verwebung (Größenlehre No. 56), also gilt nach Größenlehre No. 57 auch das Gesetz der Verwebung, d.h. die ganze Vertauschung der Faktoren, und gilt demnächst nach Größenhelre N. 72 und 78 auch das ganze Gesetz der Erhöhung."
   ]
  },
  {
   "attachments": {},
   "cell_type": "markdown",
   "id": "1b86ff1c-b963-4bde-9bb7-63dd0ccb1d4b",
   "metadata": {},
   "source": [
    "11. Erklärung. Die Gebinde heißen:\n",
    "    1. __Ausgebinde__ oder __Combinationen ohne Wiederholung__, wenn jedes Gebinde, welches zwei gleiche Stifte oder Elemente enthält, Null ist. Zeichen $(i)$,\n",
    "    2. __Vollgebinde__ oder __Combinationen mit Wiederholung__, wenn das Gebinde, welches gleiche Stifte oder Elemente $\\ne 0$ enthält, auch ungleich Null ist, zeichen $(ii)$,\n",
    "    3. __Rgebinde__ oder __Combinationen mit rfacher Wiederholung__, wenn die Gebinde, welche $r-a$ gleiche Stifte $\\ne 0$ enthalten, ungleich Null, die welche $r+1$ gleiche Stifte enthalten, Null sind, Zeichen $(ri)$."
   ]
  },
  {
   "attachments": {},
   "cell_type": "markdown",
   "id": "733f2e56-5627-4b86-9ad3-bf143d8a8d16",
   "metadata": {},
   "source": [
    "12. $\\begin{align}&& 0^0 = 1 && 0^m = 0 \\text{, wo } m \\gt 1 &&\\end{align}$\n",
    "    Für alle Arten der Gebinde ist die nullte Klasse von Null gleich 1, jede höhere Klasse von Null gleich Null.\n",
    "\n",
    "    Beweis: $0^0=1$ unmittelbar aus No. 2; $0^m=0^1\\times0^{m-1}=0 \\times 0^{m-1}$ (nach 2).\n"
   ]
  },
  {
   "attachments": {},
   "cell_type": "markdown",
   "id": "c3a0939e-9560-4ea4-880a-6331e8e0b98b",
   "metadata": {},
   "source": [
    "13.  $\\begin{align}&& e_1 \\prod_{i=1} e_i \\stackrel{(i)}{=} 0 && e_{1}^r \\prod_{i=1} e_i \\stackrel{(ri)}{=} 0 && \\prod_{i=1} e_{i}^{n_i} \\stackrel{(ii)}{\\ne} 0 &&\\end{align}$\n",
    "    Bei Ausgebenden (Combinationen o. W.) ist jedes Gebinde welches zwei gleiche Stifte oder Elemente enthält, und bei Rgebinden (Combinationen m. rfacher W.) ist jedes Gebinde, das $r+1$ gleiche Stifte enthält, Null; dagegen ist bei Vollgebinden (Combinationen m. W.) das Gebinde, welches gleiche Stifte $\\ne 0$ enthält, stets auch ungleich Null."
   ]
  },
  {
   "attachments": {},
   "cell_type": "markdown",
   "id": "9c5e6373-7653-44bd-a678-9b349b619acc",
   "metadata": {},
   "source": [
    "14. $\\begin{align}&& e^n \\stackrel{(i)}{=} 0 && e^{r+n} \\stackrel{(ri)}{=} 0 && \\end{align}$\n",
    "    Bei Ausgebinden (Combinationen o. W.) ist jede $n$te Klasse, bei Rgebinden (Combinationen m. rfacher W.) jede $(r+n)$te Klasse aus einem Stift oder Element Null, sofern $n$ gleich oder größer größer als $1$ ist.\n",
    "\n",
    "    Beweis: Angenommen, der Statz gelte für irgend ein $n$, so gilt er auch für $n+1$; denn\n",
    "    \n",
    "$\\begin{align}\n",
    "&& e^{n+1} &\\stackrel{(i)}{=} e^n \\times e   & e^{(r+n)+1} &\\stackrel{(ri)}{=} e^{r+n} \\times e    & \\text{(nach 2)} \\\\\n",
    "\\Rightarrow && &\\stackrel{(i)}{=} 0 \\times e &             &\\stackrel{(ri)}{=} 0 \\times e          & \\text{(nach Annahme)} \\\\\n",
    "\\Rightarrow && &\\stackrel{(i)}{=} 0          &             &\\stackrel{(ri)}{=} 0                   & \\text{(nach 2)} \\\\\n",
    "\\end{align}$\n",
    "    Nun gilt die Formel für $ee \\stackrel{(i)}{=}0$ und $e^{r+1} \\stackrel{(ri)}{=}0$ (nach 13), also allgemein."
   ]
  },
  {
   "attachments": {},
   "cell_type": "markdown",
   "id": "ddc2b162-f482-4496-870d-15458ec9e0d4",
   "metadata": {},
   "source": [
    "15. Es gibt demnach folgende sechs Arten von Gebinden:\n",
    "    1. Ausgeschiede oder Complexionen ohne Wiederholung, Zeichen $(\\cdot)$.\n",
    "    2. Vollgeschiede oder Complexionen mit Wiederholung, Zeichen $(\\cdot\\cdot)$\n",
    "    3. Rgeschiede oder Complexionen mit rfacher Wiederholung, Zeichen $(r\\cdot)$\n",
    "    4. Ausgeänder oder Variationen ohne Wiederholung, Zeichen $(\\backprime)$\n",
    "    5. Vollgeänder oder Variationen mit Wiederholung, Zeichen $(\\backprime\\backprime)$\n",
    "    6. Rgeänder oder Variationen mit rfacher Wiederholung, Zeichen $(r\\backprime)$"
   ]
  },
  {
   "attachments": {},
   "cell_type": "markdown",
   "id": "1563a62a-9682-470a-aece-35665da60234",
   "metadata": {},
   "source": [
    "## Abschnitt 2. Aufstellung der Gebinde."
   ]
  },
  {
   "attachments": {},
   "cell_type": "markdown",
   "id": "26ca7326-8146-418e-a5d4-7dd71e809cad",
   "metadata": {},
   "source": [
    "16. $(\\sum\\limits_{i=1}^n e_i)^m = \\sum\\limits_{i_1=1}^n .. \\sum\\limits_{i_m=1}^n e_{i_1} .. e_{i_m}$ , wo die Anzahl der Faktoren m ist<br />\n",
    "    Die mte Klasse einer Summe von n Stiften oder Elementen erhält man, indem man jedes Stift mit jedem Stifte bindet, jedes erhaltene Gebinde  wieder mit jedem Stifte bindet und sofrt, bis man lauter Gebinde  aus mStiften hat und demnächst diese Gebinde einnander zufügt.\n",
    "\n",
    "    Beweis: Unmitelbar aus No. 2.    "
   ]
  },
  {
   "attachments": {},
   "cell_type": "markdown",
   "id": "e551e01f-7adc-4cd9-93d5-a9234e2e7f60",
   "metadata": {},
   "source": [
    "17. $(\\sum\\limits_{i=1}^n a_i)^{m+1}=(\\sum\\limits_{i=1}^n a_i)^{m}\\times\\sum\\limits_{j=1}^n a_j=\\sum\\limits_{j=1}^n(\\sum\\limits_{i=1}^n a_i)^m a_j$</br>\n",
    "    Die $(m+1)$te Klasse aus $n$ Größen erhält man, indem man die $m$te Klasse aus diesen Größen mit den sämtlichen $n$ Größen bindet oder multipliziert. Bei Vollgeäender (Variationen m. W.) verschwindet keines der Gebinde.\n",
    "\n",
    "    Beweis: Der erste Teil unmittelbar aus No. 2. Bei Vollgeändern wird kein Gebinde Null, da auch die, welche gleiche Faktoren erhalten, nach 13 ungleich Null sind, und werden nicht zwei Gebinde gleich, da die Faktoren nach 8 nicht vertauscht werden dürfen, mithin verschwindet auch bei der Zufügung oder Aufstellung kein Gebinde."
   ]
  },
  {
   "attachments": {},
   "cell_type": "markdown",
   "id": "8ee38dc9-adea-4705-9c39-d249adf01911",
   "metadata": {},
   "source": [
    "18. $(\\sum\\limits_{i}^n e_i)^{m+1} \\stackrel{(i)}=\\sum\\limits_{j}^n(\\sum\\limits_{i\\ne j}^{n}e_i)^m\\times e_j$<br />\n",
    "    Für Ausgebinde (Combinationen o. W.) erhält man die $(m+1)$te Klasse, aus $n$ Stiften oder Elementen, indem man jede der n Stifte mit der mten Klasse aus den n-1 übrigen Stiften bindet oder multipliziert. Bei Ausgeändern (Variationen .o W.) verschwindet keines dieser Gebinde.\n",
    "\n",
    "    Beweis: Nach No. 17 ist $(\\sum\\limits_{i}^{n}e_i)^{m+1}=\\sum\\limits_{j}^n(\\sum\\limits_i^n e_i)^me_j$. Bei den Ausgebinden werden nun aber nach 13 alle diejenigen Gebinde Null, in denen zwei gleiche Stifte oder Elemente vorkommen und darf man also $e_j$ nur mit denjenigen Gebinden binden, welche $e_j$ nicht enthalten, d.h. nur mit den Gebinden aud den übrigen Stiften.\n",
    "    Da dann in keinem Gebinde gleiche Stifte vorkommen, so wird auch kein Ausgeänder Null und da bei Gendern die Faktoren nach 8 nicht verstauscht werden können, so werden auch nicht zwei Gebinde gleich, also verschwindet auch bei der Addition oder Aufstellung kein Gebinde unter den Ausgeändern."
   ]
  },
  {
   "attachments": {},
   "cell_type": "markdown",
   "id": "93f9a150-72a1-4bed-ba19-b1786cf00562",
   "metadata": {},
   "source": [
    "19. Aufstellung der Gebinde zur zweiten Klasse. Die zweite Klasse aus n Stiften oder Elementen erhält man, indem man jedes Stift bei Ausgeschieden mit jedem folgenden, bei Vollgeschieden mit jedem nicht früheren, bei Ausgeändern mit jedem der übrigen, bei Vollgeändern mit jedem beliebigen Stifte bindet oder multipliziert.\n",
    "\n",
    "    - Beweis: Nach No. 16 ist $(e_1+e_2+..+e_n)^2=\\sum\\limits_{i}^{n}\\sum\\limits_{j}^{n}e_ie_j$ für alle Arten der Gebinde.<br/>\n",
    "    - Bei den Geändern sind hier, da nach 9 auch $e_i e_j \\ne e_j e_i$ ist, alle Gebinde  von einander verschieden, und fällt daher bei der Addition oder Aufstellung keines aus. Bei den Vollgeänder behält außerdem auch das Gebinde gleicher Stifte $e_ie_i$ einen Wert ungleich Null und kann man also hier jedes Stift mit jedem binden.<br />\n",
    "    - Bei Ausgeändern sind die Gebinde gleicher Stifte $e_ie_i=0$ (nach 13) und muss also bei den geltenden Gebinden $i\\ne j$ sein, d.h. man muss jedes Stift mit jedem der übrigen binden. <br />\n",
    "    - Bei den Geschieden kann man nach No.2 die Gebinde beliebig ordnen und je zwei, welche dieselben Stifte oder Elemente enthalten, $e_i e_j + e_j e_i$ in einer Klammer einschließen, ferner kann man da $e_i e_j = e_j e_i$ nach No. 9 ist, beide Geschiede so ordnen, dass das spätere Stift auch in dem Gebinde das zweite ist, d.h. das jedes Stift mit einem nicht früheren gebunden ist, dann ist $e_i e_j + e_i e_j = e_i e_j$ (nach No. 4 und No. 2) und wird also aus jeder Klammer ein einfaches Gebinde. Alle diese Gebinde erhält man aber, indem man jedes Stift mit jedem nicht früheren bindet.\n",
    "    - Bei Ausgeschieden sind wieder die Geschiede gleicher Stifte $ee=0$ (nach 13) und muss also bei den geltenden Geschieden $i\\ne j$ sein, d.h. man muss jedes Stift nur mit jedem folgenden binden.<br /></br>\n",
    "    \n",
    "    Beispiel der Gebinde aus 6 Stiften (a,b,c,d,e,f) zu 2. Klasse:"
   ]
  },
  {
   "cell_type": "code",
   "execution_count": 6,
   "id": "94a90382-6eaf-44bc-b856-a8945601c79d",
   "metadata": {},
   "outputs": [
    {
     "name": "stdout",
     "output_type": "stream",
     "text": [
      "Vollgeänder\n",
      "['aa', 'ab', 'ac', 'ad', 'ae', 'af', 'ba', 'bb', 'bc', 'bd', 'be', 'bf', 'ca', 'cb', 'cc', 'cd', 'ce', 'cf', 'da', 'db', 'dc', 'dd', 'de', 'df', 'ea', 'eb', 'ec', 'ed', 'ee', 'ef', 'fa', 'fb', 'fc', 'fd', 'fe', 'ff']\n",
      "Ausgeänder\n",
      "['ab', 'ac', 'ad', 'ae', 'af', 'ba', 'bc', 'bd', 'be', 'bf', 'ca', 'cb', 'cd', 'ce', 'cf', 'da', 'db', 'dc', 'de', 'df', 'ea', 'eb', 'ec', 'ed', 'ef', 'fa', 'fb', 'fc', 'fd', 'fe']\n",
      "Vollgeschiede\n",
      "['aa', 'ab', 'ac', 'ad', 'ae', 'af', 'bb', 'bc', 'bd', 'be', 'bf', 'cc', 'cd', 'ce', 'cf', 'dd', 'de', 'df', 'ee', 'ef', 'ff']\n",
      "Ausgeschiede\n",
      "['ab', 'ac', 'ad', 'ae', 'af', 'bc', 'bd', 'be', 'bf', 'cd', 'ce', 'cf', 'de', 'df', 'ef']\n"
     ]
    }
   ],
   "source": [
    "def generate_bindings(aval, mval):\n",
    "    nval = len(aval)\n",
    "    if mval == 0:\n",
    "        return 1\n",
    "    if nval == 0:\n",
    "        return 0\n",
    "    bindings = aval\n",
    "    for dummy_idx in range(mval-1):\n",
    "        next_level_bindings = []\n",
    "        for idx in range(len(bindings)):\n",
    "            for jdx in range(nval):\n",
    "                next_level_bindings.append(f'{bindings[idx]}{aval[jdx]}')\n",
    "        bindings = next_level_bindings\n",
    "    return bindings\n",
    "    \n",
    "def generate_outbindings(aval, mval):\n",
    "    nval = len(aval)\n",
    "    if mval == 0:\n",
    "        return 1\n",
    "    if nval == 0:\n",
    "        return 0\n",
    "    outbindings = aval\n",
    "    for dummy_idx in range(mval-1):\n",
    "        next_level_outbindings = []\n",
    "        for idx in range(len(outbindings)):\n",
    "            for jdx in range(nval):\n",
    "                if idx != jdx:\n",
    "                    next_level_outbindings.append(f'{outbindings[idx]}{aval[jdx]}')\n",
    "        outbindings = next_level_outbindings\n",
    "    return outbindings\n",
    "def generate_scissions(aval, mval):\n",
    "    nval = len(aval)\n",
    "    if mval == 0:\n",
    "        return 1\n",
    "    if nval == 0:\n",
    "        return 0\n",
    "    scissions=aval\n",
    "    for dummy_idx in range(mval-1):\n",
    "        next_level_scissions=[]\n",
    "        for idx in range(len(scissions)):\n",
    "            for jdx in range(nval):\n",
    "                if idx <= jdx:\n",
    "                    next_level_scissions.append(f'{scissions[idx]}{aval[jdx]}')\n",
    "        scissions=next_level_scissions\n",
    "    return scissions\n",
    "def generate_outscissions(aval, mval):\n",
    "    nval = len(aval)\n",
    "    if mval == 0:\n",
    "        return 1\n",
    "    if nval == 0:\n",
    "        return 0\n",
    "    outscissions=aval\n",
    "    for dummy_idx in range(mval-1):\n",
    "        next_level_outscissions=[]\n",
    "        for idx in range(len(outscissions)):\n",
    "            for jdx in range(nval):\n",
    "                if idx <= jdx and idx !=jdx:\n",
    "                    next_level_outscissions.append(f'{outscissions[idx]}{aval[jdx]}')\n",
    "        outscissions=next_level_outscissions\n",
    "    return outscissions\n",
    "print('Vollgeänder')\n",
    "print(generate_bindings(['a','b','c','d','e','f'], 2))\n",
    "print('Ausgeänder')\n",
    "print(generate_outbindings(['a','b','c','d','e','f'], 2))\n",
    "print('Vollgeschiede')\n",
    "print(generate_scissions(['a','b','c','d','e','f'], 2))\n",
    "print('Ausgeschiede')\n",
    "print(generate_outscissions(['a','b','c','d','e','f'], 2))\n"
   ]
  },
  {
   "attachments": {},
   "cell_type": "markdown",
   "id": "5c63ce39-a119-4575-ad87-c81f11e6e855",
   "metadata": {},
   "source": [
    "20. Aufstellung der Gebinde zu höheren Klasse. Aus jeder Klasse von n Stiften oder Elementen leitet man die nächsthöhere Klasse ab, indem man jedes Gebinde der bisherigen Klasse bei Ausgeschieden mit jedem auf das letzte Stift des Gebindes folgenden Stifte, bei Vollgeschieden mit jedem nicht früheren Stifte bindet, bei Ausgeändern mit jedem in dem betreffenden Gebinde nicht erhaltenen Stifte, bei Vollgeändern mit jedem beliebigen Stifte bindet.\n",
    "\n",
    "    Beweis:\n",
    "    - Für Vollgeänder folgt der Satz unmittelbar aus No. 17, für Ausgeänder unmittelbar aus No. 18.\n",
    "    - Bei Geschieden kann man nach No. 2 die Gebinde beliebig ordnen und alle Gebinde, welche dieselbe Stifte enthalten, in einer Klammer einschließen. Ferner kann man in jedem Gebinde nach No. 8 die Stifte beliebig ordnen und die also so ordnen, das jedes in der urspünglichen Aufstellung später folgende Stift auch in dem Gebinde später steht als die früheren. Dann sind alle Gebinde in der Klammer einander gleich und ist die Summe der Gebinde in der Klammer einem einzelnen Gebinde gleich nach No. 6 und kann man also ein Gebinde statt der Klammer setzen. Alle Geschiede der mten Klasse erhält man also, wenn man jedes Gebinde der (m-1)ten Klasse mit jedem nicht früheren Stifte bindet.\n",
    "    - Bei Ausgeschieden endlich ist nach No. 13 jedes Gebinde, welches zwei gleiche Stifte enthält, Null, und darf man also jedes Geschiede nicht mit einem Stifte des Gebindes, d.h. also nur mit den auf das letzte Stift des Gebindes folgenden Stifte binden. "
   ]
  },
  {
   "attachments": {},
   "cell_type": "markdown",
   "id": "246cf896-f123-4d92-b754-239fe0374f0d",
   "metadata": {},
   "source": [
    "Beispiel der Gebinde aus 6 Stiften a, b, c, d, e, f zur 3. Klasse:"
   ]
  },
  {
   "cell_type": "code",
   "execution_count": 7,
   "id": "25edaeb1-a515-4c54-bf5d-ae96db2f66c5",
   "metadata": {},
   "outputs": [
    {
     "name": "stdout",
     "output_type": "stream",
     "text": [
      "Vollgeänder\n",
      "['aaa', 'aab', 'aac', 'aad', 'aae', 'aaf', 'aba', 'abb', 'abc', 'abd', 'abe', 'abf', 'aca', 'acb', 'acc', 'acd', 'ace', 'acf', 'ada', 'adb', 'adc', 'add', 'ade', 'adf', 'aea', 'aeb', 'aec', 'aed', 'aee', 'aef', 'afa', 'afb', 'afc', 'afd', 'afe', 'aff', 'baa', 'bab', 'bac', 'bad', 'bae', 'baf', 'bba', 'bbb', 'bbc', 'bbd', 'bbe', 'bbf', 'bca', 'bcb', 'bcc', 'bcd', 'bce', 'bcf', 'bda', 'bdb', 'bdc', 'bdd', 'bde', 'bdf', 'bea', 'beb', 'bec', 'bed', 'bee', 'bef', 'bfa', 'bfb', 'bfc', 'bfd', 'bfe', 'bff', 'caa', 'cab', 'cac', 'cad', 'cae', 'caf', 'cba', 'cbb', 'cbc', 'cbd', 'cbe', 'cbf', 'cca', 'ccb', 'ccc', 'ccd', 'cce', 'ccf', 'cda', 'cdb', 'cdc', 'cdd', 'cde', 'cdf', 'cea', 'ceb', 'cec', 'ced', 'cee', 'cef', 'cfa', 'cfb', 'cfc', 'cfd', 'cfe', 'cff', 'daa', 'dab', 'dac', 'dad', 'dae', 'daf', 'dba', 'dbb', 'dbc', 'dbd', 'dbe', 'dbf', 'dca', 'dcb', 'dcc', 'dcd', 'dce', 'dcf', 'dda', 'ddb', 'ddc', 'ddd', 'dde', 'ddf', 'dea', 'deb', 'dec', 'ded', 'dee', 'def', 'dfa', 'dfb', 'dfc', 'dfd', 'dfe', 'dff', 'eaa', 'eab', 'eac', 'ead', 'eae', 'eaf', 'eba', 'ebb', 'ebc', 'ebd', 'ebe', 'ebf', 'eca', 'ecb', 'ecc', 'ecd', 'ece', 'ecf', 'eda', 'edb', 'edc', 'edd', 'ede', 'edf', 'eea', 'eeb', 'eec', 'eed', 'eee', 'eef', 'efa', 'efb', 'efc', 'efd', 'efe', 'eff', 'faa', 'fab', 'fac', 'fad', 'fae', 'faf', 'fba', 'fbb', 'fbc', 'fbd', 'fbe', 'fbf', 'fca', 'fcb', 'fcc', 'fcd', 'fce', 'fcf', 'fda', 'fdb', 'fdc', 'fdd', 'fde', 'fdf', 'fea', 'feb', 'fec', 'fed', 'fee', 'fef', 'ffa', 'ffb', 'ffc', 'ffd', 'ffe', 'fff']\n",
      "Ausgeänder\n",
      "['abb', 'abc', 'abd', 'abe', 'abf', 'aca', 'acc', 'acd', 'ace', 'acf', 'ada', 'adb', 'add', 'ade', 'adf', 'aea', 'aeb', 'aec', 'aee', 'aef', 'afa', 'afb', 'afc', 'afd', 'aff', 'baa', 'bab', 'bac', 'bad', 'bae', 'bca', 'bcb', 'bcc', 'bcd', 'bce', 'bcf', 'bda', 'bdb', 'bdc', 'bdd', 'bde', 'bdf', 'bea', 'beb', 'bec', 'bed', 'bee', 'bef', 'bfa', 'bfb', 'bfc', 'bfd', 'bfe', 'bff', 'caa', 'cab', 'cac', 'cad', 'cae', 'caf', 'cba', 'cbb', 'cbc', 'cbd', 'cbe', 'cbf', 'cda', 'cdb', 'cdc', 'cdd', 'cde', 'cdf', 'cea', 'ceb', 'cec', 'ced', 'cee', 'cef', 'cfa', 'cfb', 'cfc', 'cfd', 'cfe', 'cff', 'daa', 'dab', 'dac', 'dad', 'dae', 'daf', 'dba', 'dbb', 'dbc', 'dbd', 'dbe', 'dbf', 'dca', 'dcb', 'dcc', 'dcd', 'dce', 'dcf', 'dea', 'deb', 'dec', 'ded', 'dee', 'def', 'dfa', 'dfb', 'dfc', 'dfd', 'dfe', 'dff', 'eaa', 'eab', 'eac', 'ead', 'eae', 'eaf', 'eba', 'ebb', 'ebc', 'ebd', 'ebe', 'ebf', 'eca', 'ecb', 'ecc', 'ecd', 'ece', 'ecf', 'eda', 'edb', 'edc', 'edd', 'ede', 'edf', 'efa', 'efb', 'efc', 'efd', 'efe', 'eff', 'faa', 'fab', 'fac', 'fad', 'fae', 'faf', 'fba', 'fbb', 'fbc', 'fbd', 'fbe', 'fbf', 'fca', 'fcb', 'fcc', 'fcd', 'fce', 'fcf', 'fda', 'fdb', 'fdc', 'fdd', 'fde', 'fdf', 'fea', 'feb', 'fec', 'fed', 'fee', 'fef']\n",
      "Vollgeschiede\n",
      "['aaa', 'aab', 'aac', 'aad', 'aae', 'aaf', 'abb', 'abc', 'abd', 'abe', 'abf', 'acc', 'acd', 'ace', 'acf', 'add', 'ade', 'adf', 'aee', 'aef', 'aff']\n",
      "Ausgeschiede\n",
      "['abb', 'abc', 'abd', 'abe', 'abf', 'acc', 'acd', 'ace', 'acf', 'add', 'ade', 'adf', 'aee', 'aef', 'aff']\n"
     ]
    }
   ],
   "source": [
    "print('Vollgeänder')\n",
    "print(generate_bindings(['a','b','c','d','e','f'], 3))\n",
    "print('Ausgeänder')\n",
    "print(generate_outbindings(['a','b','c','d','e','f'], 3))\n",
    "print('Vollgeschiede')\n",
    "print(generate_scissions(['a','b','c','d','e','f'], 3))\n",
    "print('Ausgeschiede')\n",
    "print(generate_outscissions(['a','b','c','d','e','f'], 3))"
   ]
  },
  {
   "attachments": {},
   "cell_type": "markdown",
   "id": "2afc0eb1-e03c-4beb-97a9-c8fb18e4dd05",
   "metadata": {},
   "source": [
    "21. Bei Vollgeändern ist die mte Klasse aus n Stiften oder Elementen gleich der mten Höhe oder Potenz aus n Stiften oder Elementen..\n",
    "\n",
    "    Beweis: Unmittelbar aus 20."
   ]
  },
  {
   "attachments": {},
   "cell_type": "markdown",
   "id": "6dc30982-74c7-406a-a871-a39d0bc15596",
   "metadata": {},
   "source": [
    "## Abschnitt 3. Die Klassen der Gliederausdrücke oder binomischer und polynomischer Lehrsatz"
   ]
  },
  {
   "attachments": {},
   "cell_type": "markdown",
   "id": "bc5ba655-645b-4d49-99b7-4259fc14f5e3",
   "metadata": {},
   "source": [
    "22. $$(a+e)^m\\dot=\\sum\\limits_{i=0}^{m}a^{m-i}e^i$$\n",
    "    Die mte Geschiedklasse aus (n+1) Stiften oder Elementen ist gleich der Summe der Geschiede, welche durch Verbindung der $(m-i)$ten Geschiedsklasse aus n Stiften mit der $i$ten Geschiedsklasse des $(n+1)$ Stiftes entstehen.\n",
    "\n",
    "    Beweis:\n",
    "    1. Der Satz gilt für die erste Geschiedsklasse; denn es ist\n",
    "    \\begin{align}\n",
    "    && (a+e)^1 &= a+e && \\text{(nach No. 2)} \\\\\n",
    "    \\Rightarrow && &= a^1e^0 + a^0e^1 && \\text{(nach No. 2)} \\\\\n",
    "    \\Rightarrow && &= \\sum\\limits_{i=0}^1 a^{1-i}e^i \\\\\n",
    "    \\end{align}\n",
    "    2. Wenn der Satz für die mte Geschiedsklasse gilt, so gilt er auch für die $(m+1)$te; denn es ist:\n",
    "    \\begin{align}\n",
    "    && (a+e)^{m+1} &= (a+e)^m (a+e) && \\text{(nach No. 2)} \\\\\n",
    "    \\Rightarrow && &= (\\sum\\limits_{i=0}^{m}a^{m-i}e^i)(a+e) && \\text{(nach Annahme)} \\\\\n",
    "    \\Rightarrow && &= (\\sum\\limits_{i=0}^{m}a^{m-i}e^i)a+(\\sum\\limits_{i=0}^{m}a^{m-i}e^i)e && \\text{(nach No. 2)} \\\\\n",
    "    \\Rightarrow && &= \\sum\\limits_{i=0}^{m}a^{m+1-i}e^i+\\sum\\limits_{i=0}^{m}a^{m+1-(i+1)}e^{i+1} && \\text{(nach No. 2 u. 10)} \\\\\n",
    "    \\Rightarrow && &= \\sum\\limits_{i=0}^{m}a^{m+1-i}e^i+ \\sum\\limits_{i=1}^{m+1}a^{m+1-i}e^i && \\\\\n",
    "    \\Rightarrow && &= a^{m+1}e^0 + \\sum\\limits_{i=1}^{m}a^{m+1-i}e^i+ \\sum\\limits_{i=1}^{m+1}a^{m+1-i}e^i + a^0e^{m+1} && \\\\\n",
    "    \\Rightarrow && &= a^{m+1}e^0 + \\sum\\limits_{i=1}^{m+1}a^{m+1-i}e^i + a^0e^{m+1} && \\text{(nach No. 5)} \\\\\n",
    "    \\Rightarrow && &= \\sum\\limits_{i=0}^{m+1}a^{m+1-i}e^i && \\\\\n",
    "    \\end{align}\n",
    "    d.h. der Satz gilt, wenn er für m gilt, auch für m+1; nun gilt er für m=1, also gilt er allgemein."
   ]
  },
  {
   "attachments": {},
   "cell_type": "markdown",
   "id": "0b59e728-cbad-4484-9c67-18313dc3c41d",
   "metadata": {},
   "source": [
    "25. Zweiglieder-Satz oder binomischer Lehrsatz für Geschiede.\n",
    "    $$(a+n)^m \\dot= \\sum\\limits_{i,j} a^ib^j \\text{, wo i+j=m}$$\n",
    "    Die mte Geschiedsklasse asu zwei Größen ist gleich der Summe der Geschiede, welche durch Verbindung der iten Geschiedsklasse der ersten mit der jten Geschiedsklasse der zweiten Größe entstehen, sofern i+j=m ist.\n",
    "\n",
    "    Beweis: Angenommen, der Satz gelte für die Größe b, so gilt er auch für die um ein e größere $b+e$; denn es ist:\n",
    "    \n",
    "    \\begin{align}\n",
    "    (a+(b+e))^m &= ((a+b)+e)^m && \\text{(nach No. 2)} \\\\\n",
    "                &= \\sum\\limits_{i=0}^{m} (a+b)^{m-i} e^i && \\text{(nach No. 22)} \\\\\n",
    "                &= \\sum\\limits_{i=0}^{m} (\\sum\\limits_{j=0}^{m-i}a^{(m-i)-j} b^{j} ) e^i && \\text{(nach Annahme)} \\\\\n",
    "                &= \\sum\\limits_{i=0}^{m} (\\sum\\limits_{j=i}^{m}a^{(m-i)-(j-i)} b^{j-i} ) e^i && \\text{(nach 2)} \\\\       \n",
    "                &= \\sum\\limits_{i=0}^{m} \\sum\\limits_{j=i}^{m}a^{m -j} b^{j-i} e^i && \\text{(nach 2)} \\\\       \n",
    "                &= \\sum\\limits_{i=0}^{m} \\sum\\limits_{j=i}^{m}a^{m -j} \\sum\\limits_{i=0}^j b^{j-i}  e^i && \\text{(nach 2)} \\\\       \n",
    "                &= \\sum\\limits_{i=0}^{m} \\sum\\limits_{j=i}^{m}a^{m -j} (b+e)^j && \\text{(nach 22)} \\\\       \n",
    "                &= \\sum\\limits_{i,j} a^i(b+e)^j \\text{, wo i+j=m} && \\text{(nach 22)} \\\\       \n",
    "    \\end{align}\n",
    "    d.h. wenn der Satz für b gilt, so gilt er auch für b+e; nun gilt er nach No. 22 für b=e, mithin gilt er allgemein.\n"
   ]
  },
  {
   "attachments": {},
   "cell_type": "markdown",
   "id": "6217ef3d-b70b-437a-87f1-7466f4a3646c",
   "metadata": {},
   "source": [
    "23. $(a+e)^m \\dot= a^m + (a+e)^{m-1}e$<br />\n",
    "    Die mte Geschiedsklasse aus n Stiften oder Elementen ist die mte Geschiedsklasse aus den n-1 ersten Stiften plus dem Geschiede des nten Stiftes mit der (m-1)sten Geschiedsklasse aus n Stiften.\n",
    "\n",
    "    Beweis:\n",
    "    \\begin{align}\n",
    "    && (a+e)^m &= \\sum\\limits_{i=0}^{m}a^{m-i}e^{i} && \\text{(nach No. 22)} \\\\\n",
    "    && &= a^m + \\sum\\limits_{i=1}^{m}a^{m-i}e^{i} && \\\\\n",
    "    && &= a^m + (\\sum\\limits_{i=1}^{m}a^{m-1-(i-1)}e^{i-1})e && \\text{(nach No. 2)} \\\\\n",
    "    && &= a^m + (\\sum\\limits_{i=0}^{m-1}a^{m-1-i}e^{i})e && \\\\\n",
    "    && &= a^m + (a+e)^{m-1}e && \\text{(nach No. 22)} \\\\\n",
    "    \\end{align}"
   ]
  },
  {
   "attachments": {},
   "cell_type": "markdown",
   "id": "2fcb59bf-4986-4a91-a493-6d37e9a05899",
   "metadata": {},
   "source": [
    "24. $(a+e)^m \\dot= a^m + a^{m-1}e$<br />\n",
    "    Bei Ausgeschieden ist die mte Klasse aus n Stiften oder Elementen gleich der mten Geschiedsklasse aus den ersten n-1 Stiften plus dem Geschiede des nten Stiftes mit der (m-1)ten Klasse aus den n-1 ersten Stiften.\n",
    "\n",
    "    Beweis:\n",
    "    \\begin{align}\n",
    "    && (a+e)^m &= \\sum\\limits_{i=0}^{m} a^{m-i} e^i && \\text{(nach No. 22)} \\\\\n",
    "    &&         &= a^m + a^{m-1}e^1 + a^{m-2}e^{2} + .. + e^m && \\text{(nach No. 2)} \\\\\n",
    "    &&         &= a^m + a^{m-1}e  && \\text{(nach No. 14)} \\\\\n",
    "    \\end{align}\n",
    "    "
   ]
  },
  {
   "attachments": {},
   "cell_type": "markdown",
   "id": "378963f7-a4e4-4139-a779-cf8c0bd19c21",
   "metadata": {},
   "source": [
    "26. Glieder-Satz oder polynomischer Lehrsatz für Geschiede.\n",
    "    $$\n",
    "    (a+b+c+..)^m\\dot=\\sum\\limits_{i,j,k..}a^i b^j c^k .. \\text{ , wo }i+j+k=m\n",
    "    $$\n",
    "    Die mte Geschiedsklasse mehrer Größen ist gleich der Summe der Geschiede, welche durch Verbindung der iten Geschiedsklasse der ersten Größe mit der jten Geschiedsklasse der zweiten Größe, mit der kten Geschiedsklasse der dritten Größe u.s.w. entstehen, sofern $i+j+k..=m$.\n",
    "\n",
    "    Beweis:\n",
    "    \\begin{align}\n",
    "    (a+b+c+..)^m&=\\sum_{i}a^i(b+c+..)^{m-i} && \\text{(nach No. 25)} \\\\\n",
    "    &=\\sum_{i}a^i(\\sum\\limits_{j}b^j(c+..)^{m-i-j}) && \\text{(nach No. 25)} \\\\\n",
    "    &=\\sum_{i,j}a^ib^j(c+..)^{m-(i+j)} && \\text{(nach No. 2)} \\\\\n",
    "    &=\\sum_{i,j,k..}a^ib^jc^k+..)^{m-(i+j+k..)} \\text{ wo, } i+j+k+..=m && \\text{(nach No. 25)} \\\\\n",
    "    \\end{align}"
   ]
  }
 ],
 "metadata": {
  "kernelspec": {
   "display_name": "Python 3 (ipykernel)",
   "language": "python",
   "name": "python3"
  },
  "language_info": {
   "codemirror_mode": {
    "name": "ipython",
    "version": 3
   },
   "file_extension": ".py",
   "mimetype": "text/x-python",
   "name": "python",
   "nbconvert_exporter": "python",
   "pygments_lexer": "ipython3",
   "version": "3.11.2"
  }
 },
 "nbformat": 4,
 "nbformat_minor": 5
}
